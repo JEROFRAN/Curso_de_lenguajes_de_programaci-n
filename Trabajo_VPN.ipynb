{
  "nbformat": 4,
  "nbformat_minor": 0,
  "metadata": {
    "colab": {
      "provenance": [],
      "authorship_tag": "ABX9TyN2PIcBKoW906wRzXnETcN/",
      "include_colab_link": true
    },
    "kernelspec": {
      "name": "python3",
      "display_name": "Python 3"
    },
    "language_info": {
      "name": "python"
    }
  },
  "cells": [
    {
      "cell_type": "markdown",
      "metadata": {
        "id": "view-in-github",
        "colab_type": "text"
      },
      "source": [
        "<a href=\"https://colab.research.google.com/github/JEROFRAN/Curso_de_lenguajes_de_programaci-n/blob/main/Trabajo_VPN.ipynb\" target=\"_parent\"><img src=\"https://colab.research.google.com/assets/colab-badge.svg\" alt=\"Open In Colab\"/></a>"
      ]
    },
    {
      "cell_type": "markdown",
      "source": [
        "# **¿Que es el valor Presente Neto?**\n",
        "\n",
        "El Valor Presente Neto (VPN) es una herramienta financiera que permite evaluar la rentabilidad de una inversión o proyecto, considerando el valor del dinero en el tiempo. Se calcula descontando al presente los flujos de efectivo futuros que generará la inversión y restando la inversión inicial. Un VPN positivo indica que la inversión es rentable, mientras que un VPN negativo sugiere lo contrario.\n",
        "\n",
        "## **Método del valor presente neto**\n",
        "\n",
        "El método del valor presente neto incorpora el valor del dinero en determinado tiempo de flujos de efectivo netos de un negocio o proyecto. El objetivo del valor presente neto es realizar las comparaciones entre los periodos en los que el proyecto o negocio tuvo diferentes flujos de efectivo para determinar si conviene o no invertir en él.\n",
        "\n",
        "Este método se ha convertido en una herramienta fundamental en la evaluación de inversiones, de gran ayuda para la contabilidad de un negocio. Lo que busca es determinar la rentabilidad de un proyecto al calcular el valor presente de los flujos de efectivo futuros generados por la inversión, descontados a una tasa de interés específica.\n",
        "Se calcula usando la siguiente fórmula:\n",
        "\n",
        "**Fórmula del Valor Presente Neto:**\n",
        "$$\n",
        "VPN = \\sum_{t=1}^{n} \\frac{F_t}{(1 + r)^t} - I  c   \n",
        "$$\n",
        "\n",
        "Donde:\n",
        "- **\\( F_t \\)** = Flujo de caja neto en el periodo \\( t \\).\n",
        "- **\\( r \\)** = Tasa de descuento.\n",
        "- **\\( t \\)** = Número de periodos.\n",
        "- **\\( I \\)** = Inversión inicial.\n",
        "\n",
        "---\n",
        "\n",
        "##  **Ejemplo de cálculo del VPN**\n",
        "\n",
        "Supongamos una inversión inicial de **$10,000** con una tasa de descuento del **8%** y los siguientes flujos de caja:\n",
        "\n",
        "| Año | Flujo de Caja |\n",
        "|----|-------------|\n",
        "| 1  |$5,000       |\n",
        "    | 2   |$3,000      |\n",
        "       | 3  | $8,000      |\n",
        "\n",
        " ### **Paso 1: Calcular los valores presentes de los flujos de caja**\n",
        "\n",
        "$$\n",
        "\\text{Año 1: } \\frac{5000}{(1 + 0.08)^1} = 4,629\n",
        "$$\n",
        "\n",
        "$$\n",
        "\\text{Año 2: } \\frac{3000}{(1 + 0.08)^2} = 2,572\n",
        "$$\n",
        "\n",
        "$$\n",
        "\\text{Año 3: } \\frac{8000}{(1 + 0.08)^3} = 6,349\n",
        "$$\n",
        "\n",
        "###  **Paso 2: Sumar los valores presentes de los flujos de caja**\n",
        "\n",
        "$$\n",
        "4,629 + 2,572 + 6,349 = 13,550\n",
        "$$\n",
        "\n",
        "###  **Paso 3: Calcular el VPN final**\n",
        "\n",
        "$$\n",
        "VPN = 13,550 - 10,000 = 3,550\n",
        "$$\n",
        "\n",
        "---\n",
        "\n",
        "##  **Conclusión**\n",
        "Dado que el **VPN es positivo (\\$3,550)**, la inversión **es rentable**.\n",
        "\n",
        "\n",
        "**Nota:** El VPN es una herramienta clave para evaluar si un proyecto generará ganancias netas. Se utiliza en el sector bancario, inversión y también en las finanzas personales.\n",
        "\n",
        "**Ventajas del uso del VPN:**\n",
        "\n",
        "* Considera el valor del dinero en el tiempo.\n",
        "* Permite comparar diferentes proyectos de inversión.\n",
        "* Facilita la toma de decisiones informadas.\n",
        "\n",
        "**Desventajas del uso del VPN:**\n",
        "\n",
        "* Requiere estimaciones precisas de los flujos de caja futuros y la tasa de descuento.\n",
        "* Puede ser complejo de calcular sin herramientas adecuadas.\n",
        "* No considera factores cualitativos que podrían influir en la decisión de inversión.\n",
        "* Para facilitar el cálculo del VPN y los márgenes de utilidad de tus proyectos, puedes utilizar plantillas gratuitas disponibles en línea."
      ],
      "metadata": {
        "id": "HbvGKPgNky1t"
      }
    },
    {
      "cell_type": "markdown",
      "source": [
        "[referencia](https://blog.hubspot.es/sales/que-es-valor-presente-neto)\n",
        "\n",
        "1.   Elemento de lista\n",
        "2.   Elemento de lista\n",
        "\n",
        "   "
      ],
      "metadata": {
        "id": "X5hUhpSIpmTB"
      }
    },
    {
      "cell_type": "code",
      "source": [
        "Inversion_inicial = 10000\n",
        "flujo_año_1 = 5000\n",
        "flujo_año_2 = 3000\n",
        "flujo_año_3 = 8000\n",
        "tasa_descuento = 0.08"
      ],
      "metadata": {
        "id": "PxZm2BkzchSD"
      },
      "execution_count": 6,
      "outputs": []
    },
    {
      "cell_type": "code",
      "source": [
        "VPN = (flujo_año_1 / (1 + tasa_descuento) ** 1) + (flujo_año_2 / (1 + tasa_descuento) ** 2) +  (flujo_año_3 / (1 + tasa_descuento) ** 3)-Inversion_inicial\n",
        "print(VPN)\n"
      ],
      "metadata": {
        "colab": {
          "base_uri": "https://localhost:8080/"
        },
        "id": "-lROjGTodIMp",
        "outputId": "42e7a037-9ede-4207-8eb5-01a81c6d1971"
      },
      "execution_count": 8,
      "outputs": [
        {
          "output_type": "stream",
          "name": "stdout",
          "text": [
            "3552.304018696337\n"
          ]
        }
      ]
    },
    {
      "cell_type": "code",
      "source": [
        "if VPN > 0:\n",
        "  print(\"La inversión es viable\")\n",
        "else:\n",
        "  print(\"La inversión no es viable\")"
      ],
      "metadata": {
        "colab": {
          "base_uri": "https://localhost:8080/"
        },
        "id": "T8aZCx57eSY4",
        "outputId": "1948d407-0246-479a-ce6c-1c1aaf7258f6"
      },
      "execution_count": 10,
      "outputs": [
        {
          "output_type": "stream",
          "name": "stdout",
          "text": [
            "La inversión es viable\n"
          ]
        }
      ]
    }
  ]
}