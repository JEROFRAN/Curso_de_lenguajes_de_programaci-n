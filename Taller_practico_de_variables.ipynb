{
  "nbformat": 4,
  "nbformat_minor": 0,
  "metadata": {
    "colab": {
      "provenance": []
    },
    "kernelspec": {
      "name": "python3",
      "display_name": "Python 3"
    },
    "language_info": {
      "name": "python"
    }
  },
  "cells": [
    {
      "cell_type": "markdown",
      "source": [
        "### Taller Práctico: Variables en Python para Ingeniería Financiera\n",
        "\n",
        "# Introducción\n",
        "# En este taller, aprenderás a utilizar diferentes tipos de variables en Python\n",
        "# a través de ejercicios prácticos aplicados a escenarios financieros."
      ],
      "metadata": {
        "id": "Bo6nh2CyULcw"
      }
    },
    {
      "cell_type": "code",
      "source": [
        "# Ejercicio 1: Variables tipo string\n",
        "# Contexto: Un banco necesita almacenar el nombre de sus clientes. almacena 5 clientes en 5 variables diferentes\n"
      ],
      "metadata": {
        "id": "5jA7bjhcXcWI"
      },
      "execution_count": null,
      "outputs": []
    },
    {
      "cell_type": "markdown",
      "source": [
        "Resultado:"
      ],
      "metadata": {
        "id": "GmV9EQUzXuWv"
      }
    },
    {
      "cell_type": "code",
      "source": [
        "#Ingrese codigo aquí\n",
        "nom_cliente1 = \"Juan\"\n",
        "nom_cliente2 = \"María\"\n",
        "nom_cliente3 = \"Carlos\"\n",
        "nom_cliente4 = \"Ana\"\n",
        "nom_cliente5 = \"Luis\"\n",
        "\n",
        "Mensaje1 = f\"Nombre del cliente 1: {nom_cliente1}\"\n",
        "\n",
        "print(Mensaje1)\n"
      ],
      "metadata": {
        "id": "jA7Qhj2tXwBN",
        "colab": {
          "base_uri": "https://localhost:8080/"
        },
        "outputId": "7da50b86-4589-4df1-9831-920e75b99d31"
      },
      "execution_count": 12,
      "outputs": [
        {
          "output_type": "stream",
          "name": "stdout",
          "text": [
            "Nombre del cliente 1: Juan\n"
          ]
        }
      ]
    },
    {
      "cell_type": "code",
      "source": [
        "# Ejercicio 2: Concatenación de Strings\n",
        "# Contexto: Al generar reportes, el banco quiere mostrar el tipo de cuenta junto al nombre del cliente. realiza el ejercicio para las 5 variables\n"
      ],
      "metadata": {
        "id": "Sx7DMAgIX2xG"
      },
      "execution_count": null,
      "outputs": []
    },
    {
      "cell_type": "markdown",
      "source": [
        "Resultado"
      ],
      "metadata": {
        "id": "MgijW_JIX8Lu"
      }
    },
    {
      "cell_type": "code",
      "source": [
        "# Ingresa código aqui\n",
        "\n",
        "cuenta1 = \"Cuenta de ahorros\"\n",
        "cuenta2 = \"Cuenta corriente\"\n",
        "cuenta3 = \"Cuenta de crédito\"\n",
        "cuenta4 = \"Cuenta de ahorro a la mano \"\n",
        "cuenta5 = \"Cuenta de nequi\"\n",
        "\n",
        "mensaje2 = f\"El cliente {nom_cliente1} tiene una {cuenta1}\"\n",
        "print(mensaje2)\n",
        "\n"
      ],
      "metadata": {
        "id": "HjTub7W1X9c8",
        "colab": {
          "base_uri": "https://localhost:8080/"
        },
        "outputId": "05d42a4e-5403-4c7b-d024-fa2d41e3ea4d"
      },
      "execution_count": 13,
      "outputs": [
        {
          "output_type": "stream",
          "name": "stdout",
          "text": [
            "El cliente Juan tiene una Cuenta de ahorros\n"
          ]
        }
      ]
    },
    {
      "cell_type": "code",
      "source": [
        "# Ejercicio 4: Formateo de Variables\n",
        "# Contexto: Un banco necesita mostrar el saldo de un cliente con formato adecuado.\n"
      ],
      "metadata": {
        "id": "BC_aRDtOYKrb"
      },
      "execution_count": 17,
      "outputs": []
    },
    {
      "cell_type": "markdown",
      "source": [
        "Resultado"
      ],
      "metadata": {
        "id": "swsBPuJ3YSej"
      }
    },
    {
      "cell_type": "code",
      "source": [
        "#Ingrese el código aquí\n",
        "saldo_cliente1 = 1000000\n",
        "saldo_cliente2 = 500000\n",
        "saldo_cliente3 = 250000\n",
        "saldo_cliente4 = 150000\n",
        "saldo_cliente5 = 800000\n",
        "\n",
        "mensaje3 = f\"El saldo del cliente {nom_cliente1} es de ${saldo_cliente1}\"\n",
        "print(mensaje3)\n"
      ],
      "metadata": {
        "id": "NPlztw_KYTzL",
        "colab": {
          "base_uri": "https://localhost:8080/"
        },
        "outputId": "5542a50e-6b62-4ba9-aa6c-fe609cb631db"
      },
      "execution_count": 16,
      "outputs": [
        {
          "output_type": "stream",
          "name": "stdout",
          "text": [
            "El saldo del cliente Juan es de $1000000\n"
          ]
        }
      ]
    },
    {
      "cell_type": "code",
      "source": [
        "# Ejercicio 5: Entrada de Datos\n",
        "# Contexto: Un cliente ingresa su número de identificación para consultar su estado de cuenta. crea para cada cliente una variable de identificacion\n",
        "id_cliente = input(\"Ingrese su número de identificación: \")\n",
        "print(\"ID registrado:\", id_cliente)"
      ],
      "metadata": {
        "id": "I7yQTuYqYcIJ"
      },
      "execution_count": null,
      "outputs": []
    },
    {
      "cell_type": "markdown",
      "source": [
        "Resultado"
      ],
      "metadata": {
        "id": "7vzKHerGYgpt"
      }
    },
    {
      "cell_type": "code",
      "source": [
        "#inserte código aqui\n",
        "id_cliente1 = input(\"Ingrese su número de identificación: \")\n",
        "id_cliente2 = input(\"Ingrese su número de identificación: \")\n",
        "id_cliente3 = input(\"Ingrese su número de identificación: \")\n",
        "id_cliente4 = input(\"Ingrese su número de identificación: \")\n",
        "id_cliente5 = input(\"Ingrese su número de identificación: \")\n",
        "print(\"ID registrado:\", id_cliente1)"
      ],
      "metadata": {
        "id": "puoOr2v2Yhz5",
        "colab": {
          "base_uri": "https://localhost:8080/"
        },
        "outputId": "16c1bd39-00da-4596-ccdd-3ced80525d0e"
      },
      "execution_count": 19,
      "outputs": [
        {
          "output_type": "stream",
          "name": "stdout",
          "text": [
            "Ingrese su número de identificación: 13648596\n",
            "Ingrese su número de identificación: 145556978\n",
            "Ingrese su número de identificación: 44869752\n",
            "Ingrese su número de identificación: 1222356487\n",
            "Ingrese su número de identificación: 58774961\n",
            "ID registrado: 13648596\n"
          ]
        }
      ]
    },
    {
      "cell_type": "code",
      "source": [
        "# Ejercicio 6: Variables Booleanas\n",
        "# Contexto: Validar si un cliente tiene derecho a un préstamo. crea tres ejercicios con variables booleanas\n",
        "ingresos_mensuales = 3000\n",
        "historial_crediticio = True\n",
        "es_aprobado = ingresos_mensuales > 2500 and historial_crediticio\n",
        "print(\"¿El cliente es aprobado para el préstamo?:\", es_aprobado)"
      ],
      "metadata": {
        "id": "_zpACyy_YzZ4"
      },
      "execution_count": null,
      "outputs": []
    },
    {
      "cell_type": "code",
      "source": [
        "#inserte código aqui\n",
        "\n",
        "ingresos_mensuales = 2000\n",
        "historial_crediticio = False\n",
        "es_aprobado = ingresos_mensuales > 2500 and historial_crediticio\n",
        "print(\"¿El cliente es aprobado para el préstamo?:\", es_aprobado)\n",
        ""
      ],
      "metadata": {
        "colab": {
          "base_uri": "https://localhost:8080/"
        },
        "id": "WT1motjnPX2J",
        "outputId": "95369f46-e0b7-42f8-a42a-777c9541266d"
      },
      "execution_count": 22,
      "outputs": [
        {
          "output_type": "stream",
          "name": "stdout",
          "text": [
            "¿El cliente es aprobado para el préstamo?: False\n"
          ]
        }
      ]
    }
  ]
}