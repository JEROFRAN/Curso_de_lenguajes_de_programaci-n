{
  "nbformat": 4,
  "nbformat_minor": 0,
  "metadata": {
    "colab": {
      "provenance": [],
      "authorship_tag": "ABX9TyOHAuuVXiaH2oavxF9WTtTM",
      "include_colab_link": true
    },
    "kernelspec": {
      "name": "python3",
      "display_name": "Python 3"
    },
    "language_info": {
      "name": "python"
    }
  },
  "cells": [
    {
      "cell_type": "markdown",
      "metadata": {
        "id": "view-in-github",
        "colab_type": "text"
      },
      "source": [
        "<a href=\"https://colab.research.google.com/github/JEROFRAN/Curso_de_lenguajes_de_programaci-n/blob/main/Taller_de_funciones.ipynb\" target=\"_parent\"><img src=\"https://colab.research.google.com/assets/colab-badge.svg\" alt=\"Open In Colab\"/></a>"
      ]
    },
    {
      "cell_type": "code",
      "source": [
        "# Ejercicio 1: Asignar etiqueta de calorías según la FDA\n",
        "\n",
        "def asignar_etiqueta_calorias(alimento):\n",
        "    if alimento[\"calorias\"] < 5:\n",
        "        etiqueta_calorias = \"SIN CALORÍAS\"\n",
        "    elif alimento[\"calorias\"] < 40:\n",
        "        etiqueta_calorias = \"BAJO EN CALORÍAS\"\n",
        "    else:\n",
        "        etiqueta_calorias = None\n",
        "    return etiqueta_calorias\n",
        "\n",
        "# Datos del tomate\n",
        "tomate = {\"nombre\": \"tomate\", \"tamano_porcion\": 125, \"calorias\": 22.5, \"grasa\": 250, \"sodio\": 6.25, \"azucar\": 3.29, \"fibra\": 1.5}\n",
        "print(f\"Etiqueta de calorías para {tomate['nombre']}: {asignar_etiqueta_calorias(tomate)}\")"
      ],
      "metadata": {
        "colab": {
          "base_uri": "https://localhost:8080/"
        },
        "id": "jUjhUEJdH7bJ",
        "outputId": "fc6c6e21-c621-4d29-9d2f-d1115712f2c2"
      },
      "execution_count": 26,
      "outputs": [
        {
          "output_type": "stream",
          "name": "stdout",
          "text": [
            "Etiqueta de calorías para tomate: BAJO EN CALORÍAS\n"
          ]
        }
      ]
    },
    {
      "cell_type": "code",
      "source": [
        "# Ejercicio 2: Prueba con el banano\n",
        "banano = {\"nombre\": \"banano\", \"tamano_porcion\": 28, \"calorias\": 94.1, \"grasa\": 300, \"sodio\": 1.96, \"azucar\": 16, \"fibra\": 0.504}\n",
        "print(f\"Etiqueta de calorías para {banano['nombre']}: {asignar_etiqueta_calorias(banano)}\")"
      ],
      "metadata": {
        "colab": {
          "base_uri": "https://localhost:8080/"
        },
        "id": "DzIs4JehH9ZH",
        "outputId": "05adaafe-65e9-4a9a-d34c-dda2909ca06c"
      },
      "execution_count": 27,
      "outputs": [
        {
          "output_type": "stream",
          "name": "stdout",
          "text": [
            "Etiqueta de calorías para banano: None\n"
          ]
        }
      ]
    },
    {
      "cell_type": "code",
      "source": [
        "# Ejercicio 3: Uso de la función help\n",
        "help(asignar_etiqueta_calorias)"
      ],
      "metadata": {
        "colab": {
          "base_uri": "https://localhost:8080/"
        },
        "id": "5ACTpQjxIRCw",
        "outputId": "821f9846-6c72-4f03-90df-c363cfbed5d9"
      },
      "execution_count": 28,
      "outputs": [
        {
          "output_type": "stream",
          "name": "stdout",
          "text": [
            "Help on function asignar_etiqueta_calorias in module __main__:\n",
            "\n",
            "asignar_etiqueta_calorias(alimento)\n",
            "\n"
          ]
        }
      ]
    },
    {
      "cell_type": "code",
      "source": [
        "# Ejercicio 4: Asignar etiqueta de grasa\n",
        "def asignar_etiqueta_grasa(alimento):\n",
        "    if alimento[\"grasa\"] < 0.5:\n",
        "        etiqueta_grasa = \"LIBRE DE GRASA\"\n",
        "    elif alimento[\"grasa\"] < 3:\n",
        "        etiqueta_grasa = \"BAJO EN GRASA\"\n",
        "    else:\n",
        "        etiqueta_grasa = \"BAJO EN GRASA\"\n",
        "    return etiqueta_grasa\n",
        "\n",
        "print(f\"Etiqueta de grasa para {tomate['nombre']}: {asignar_etiqueta_grasa(tomate)}\")\n",
        "print(f\"Etiqueta de grasa para {banano['nombre']}: {asignar_etiqueta_grasa(banano)}\")\n",
        "\n"
      ],
      "metadata": {
        "colab": {
          "base_uri": "https://localhost:8080/"
        },
        "id": "xrbyEykVIUvM",
        "outputId": "3bccb2e2-4cb0-42df-9f3c-d367ccade747"
      },
      "execution_count": 34,
      "outputs": [
        {
          "output_type": "stream",
          "name": "stdout",
          "text": [
            "Etiqueta de grasa para tomate: BAJO EN GRASA\n",
            "Etiqueta de grasa para banano: BAJO EN GRASA\n"
          ]
        }
      ]
    },
    {
      "cell_type": "code",
      "source": [
        "# Ejercicio 5: Asignar etiqueta de azúcar\n",
        "def asignar_etiqueta_azucar(alimento):\n",
        "    if alimento[\"azucar\"] < 0.5:\n",
        "        etiqueta_azucar = \"LIBRE DE AZÚCAR\"\n",
        "    else:\n",
        "        etiqueta_azucar = None\n",
        "    return etiqueta_azucar\n",
        "\n",
        "print(f\"Etiqueta de azúcar para {tomate['nombre']}: {asignar_etiqueta_azucar(tomate)}\")\n",
        "print(f\"Etiqueta de azúcar para {banano['nombre']}: {asignar_etiqueta_azucar(banano)}\")\n"
      ],
      "metadata": {
        "colab": {
          "base_uri": "https://localhost:8080/"
        },
        "id": "M670KbT2JPgp",
        "outputId": "3c6827d2-1886-48f7-b482-0980bc3a251f"
      },
      "execution_count": 37,
      "outputs": [
        {
          "output_type": "stream",
          "name": "stdout",
          "text": [
            "Etiqueta de azúcar para tomate: None\n",
            "Etiqueta de azúcar para banano: None\n"
          ]
        }
      ]
    },
    {
      "cell_type": "code",
      "source": [
        "# Ejercicio 6: Consolidar todas las funciones en una\n",
        "def asignar_etiquetas(alimento):\n",
        "    return {\n",
        "        \"calorias\": asignar_etiqueta_calorias(alimento),\n",
        "        \"grasa\": asignar_etiqueta_grasa(alimento),\n",
        "        \"azucar\": asignar_etiqueta_azucar(alimento)\n",
        "    }\n",
        "\n",
        "print(f\"Etiquetas para {tomate['nombre']}: {asignar_etiquetas(tomate)}\")\n",
        "print(f\"Etiquetas para {banano['nombre']}: {asignar_etiquetas(banano)}\")"
      ],
      "metadata": {
        "colab": {
          "base_uri": "https://localhost:8080/"
        },
        "id": "ZEDrvhF3JXE5",
        "outputId": "9505aa10-a5dd-45a3-aa51-ba24e139e216"
      },
      "execution_count": 38,
      "outputs": [
        {
          "output_type": "stream",
          "name": "stdout",
          "text": [
            "Etiquetas para tomate: {'calorias': 'BAJO EN CALORÍAS', 'grasa': 'BAJO EN GRASA', 'azucar': None}\n",
            "Etiquetas para banano: {'calorias': None, 'grasa': 'BAJO EN GRASA', 'azucar': None}\n"
          ]
        }
      ]
    },
    {
      "cell_type": "code",
      "source": [
        "# Versión con función anónima (lambda)\n",
        "asignar_etiquetas_lambda = lambda alimento: {\n",
        "    \"calorias\": asignar_etiqueta_calorias(alimento),\n",
        "    \"grasa\": asignar_etiqueta_grasa(alimento),\n",
        "    \"azucar\": asignar_etiqueta_azucar(alimento)\n",
        "}\n"
      ],
      "metadata": {
        "id": "OYCA3pVxKWzo"
      },
      "execution_count": 41,
      "outputs": []
    },
    {
      "cell_type": "code",
      "source": [
        "print(f\"Etiquetas (lambda) para {tomate['nombre']}: {asignar_etiquetas_lambda(tomate)}\")\n",
        "print(f\"Etiquetas (lambda) para {banano['nombre']}: {asignar_etiquetas_lambda(banano)}\")"
      ],
      "metadata": {
        "colab": {
          "base_uri": "https://localhost:8080/"
        },
        "id": "_LozB5bYKZg6",
        "outputId": "702d32f9-8c66-4ce8-961d-19b5d466945f"
      },
      "execution_count": 42,
      "outputs": [
        {
          "output_type": "stream",
          "name": "stdout",
          "text": [
            "Etiquetas (lambda) para tomate: {'calorias': 'BAJO EN CALORÍAS', 'grasa': 'BAJO EN GRASA', 'azucar': None}\n",
            "Etiquetas (lambda) para banano: {'calorias': None, 'grasa': 'BAJO EN GRASA', 'azucar': None}\n"
          ]
        }
      ]
    }
  ]
}